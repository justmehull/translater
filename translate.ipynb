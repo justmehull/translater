{
 "cells": [
  {
   "cell_type": "code",
   "execution_count": 3,
   "id": "0cebe1f9-5d86-4870-ad6c-50b7072e242f",
   "metadata": {},
   "outputs": [],
   "source": [
    "from tkinter import *\n",
    "from translate import Translator"
   ]
  },
  {
   "cell_type": "code",
   "execution_count": 4,
   "id": "776149cb-8e61-4b97-b76c-a42f886265c9",
   "metadata": {},
   "outputs": [],
   "source": [
    "Screen = Tk()\n",
    "Screen.title(\"Language Translator with python\")\n",
    " \n",
    "InputLanguageChoice = StringVar()\n",
    "TranslateLanguageChoice = StringVar()"
   ]
  },
  {
   "cell_type": "code",
   "execution_count": 5,
   "id": "51d82dad-2a4b-45a4-8c5f-2a97601f91da",
   "metadata": {},
   "outputs": [],
   "source": [
    "LanguageChoices = {'Hindi','English','French','German','Spanish'}\n",
    "InputLanguageChoice.set('English')\n",
    "TranslateLanguageChoice.set('Hindi')"
   ]
  },
  {
   "cell_type": "code",
   "execution_count": 6,
   "id": "d6846bd8-7b55-4eb9-86f9-e8aaa1096c7a",
   "metadata": {},
   "outputs": [],
   "source": [
    "def Translate():\n",
    "    translator = Translator(from_lang= InputLanguageChoice.get(),to_lang=TranslateLanguageChoice.get())\n",
    "    Translation = translator.translate(TextVar.get())\n",
    "    OutputVar.set(Translation)"
   ]
  },
  {
   "cell_type": "code",
   "execution_count": 7,
   "id": "b6363523-3036-41cf-b4ee-333874c7b3d5",
   "metadata": {},
   "outputs": [],
   "source": [
    "InputLanguageChoiceMenu = OptionMenu(Screen,InputLanguageChoice,*LanguageChoices)\n",
    "Label(Screen,text=\"Choose a Language\").grid(row=0,column=1)\n",
    "InputLanguageChoiceMenu.grid(row=1,column=1)\n",
    " \n",
    "NewLanguageChoiceMenu = OptionMenu(Screen,TranslateLanguageChoice,*LanguageChoices)\n",
    "Label(Screen,text=\"Translated Language\").grid(row=0,column=2)\n",
    "NewLanguageChoiceMenu.grid(row=1,column=2)\n"
   ]
  },
  {
   "cell_type": "code",
   "execution_count": 8,
   "id": "909ebf8e-593d-463d-9f30-2a1e82e71014",
   "metadata": {},
   "outputs": [],
   "source": [
    "Label(Screen,text=\"Enter Text\").grid(row=2,column =0)\n",
    "TextVar = StringVar()\n",
    "TextBox = Entry(Screen,textvariable=TextVar).grid(row=2,column = 1)\n",
    " \n",
    "Label(Screen,text=\"Output Text\").grid(row=2,column =2)\n",
    "OutputVar = StringVar()\n",
    "TextBox = Entry(Screen,textvariable=OutputVar).grid(row=2,column = 3)\n",
    " \n",
    "B = Button(Screen,text=\"Translate\",command=Translate, relief = GROOVE).grid(row=3,column=1,columnspan = 3)\n",
    " \n",
    "mainloop()"
   ]
  },
  {
   "cell_type": "code",
   "execution_count": null,
   "id": "23542e1e-8833-4c9e-8f09-1001c2e8e3dd",
   "metadata": {},
   "outputs": [],
   "source": []
  }
 ],
 "metadata": {
  "kernelspec": {
   "display_name": "Python 3 (ipykernel)",
   "language": "python",
   "name": "python3"
  },
  "language_info": {
   "codemirror_mode": {
    "name": "ipython",
    "version": 3
   },
   "file_extension": ".py",
   "mimetype": "text/x-python",
   "name": "python",
   "nbconvert_exporter": "python",
   "pygments_lexer": "ipython3",
   "version": "3.10.5"
  }
 },
 "nbformat": 4,
 "nbformat_minor": 5
}
